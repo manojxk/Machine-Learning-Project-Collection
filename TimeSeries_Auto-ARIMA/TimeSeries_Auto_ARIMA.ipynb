{
  "nbformat": 4,
  "nbformat_minor": 0,
  "metadata": {
    "colab": {
      "name": "TimeSeries_Auto-ARIMA.ipynb",
      "provenance": []
    },
    "kernelspec": {
      "name": "python3",
      "display_name": "Python 3"
    }
  },
  "cells": [
    {
      "cell_type": "code",
      "metadata": {
        "colab": {
          "base_uri": "https://localhost:8080/"
        },
        "id": "fzFy4IGOlFmP",
        "outputId": "396b7108-a4ea-41f7-df0d-8bc6def288ac"
      },
      "source": [
        "# Importing necessary libraries\r\n",
        "import pandas as pd\r\n",
        "import numpy as np\r\n",
        "import matplotlib.pyplot as plt\r\n",
        "get_ipython().run_line_magic('matplotlib', 'inline')\r\n",
        "import warnings\r\n",
        "warnings.filterwarnings('ignore')\r\n",
        "#Installing pmdarima package\r\n",
        "!pip install pmdarima\r\n",
        "from pmdarima.arima import auto_arima\r\n"
      ],
      "execution_count": 2,
      "outputs": [
        {
          "output_type": "stream",
          "text": [
            "Collecting pmdarima\n",
            "\u001b[?25l  Downloading https://files.pythonhosted.org/packages/c9/d7/61af1897449638822f97c8b43ef0c2fce2ec68a6cda9a43ebbbdd12b967c/pmdarima-1.8.0-cp36-cp36m-manylinux1_x86_64.whl (1.5MB)\n",
            "\u001b[K     |████████████████████████████████| 1.5MB 8.3MB/s \n",
            "\u001b[?25hCollecting Cython<0.29.18,>=0.29\n",
            "\u001b[?25l  Downloading https://files.pythonhosted.org/packages/e7/d7/510ddef0248f3e1e91f9cc7e31c0f35f8954d0af92c5c3fd4c853e859ebe/Cython-0.29.17-cp36-cp36m-manylinux1_x86_64.whl (2.1MB)\n",
            "\u001b[K     |████████████████████████████████| 2.1MB 17.2MB/s \n",
            "\u001b[?25hRequirement already satisfied: setuptools!=50.0.0,>=38.6.0 in /usr/local/lib/python3.6/dist-packages (from pmdarima) (51.0.0)\n",
            "Requirement already satisfied: numpy>=1.17.3 in /usr/local/lib/python3.6/dist-packages (from pmdarima) (1.19.4)\n",
            "Requirement already satisfied: urllib3 in /usr/local/lib/python3.6/dist-packages (from pmdarima) (1.24.3)\n",
            "Requirement already satisfied: joblib>=0.11 in /usr/local/lib/python3.6/dist-packages (from pmdarima) (1.0.0)\n",
            "Requirement already satisfied: scipy>=1.3.2 in /usr/local/lib/python3.6/dist-packages (from pmdarima) (1.4.1)\n",
            "Requirement already satisfied: scikit-learn>=0.22 in /usr/local/lib/python3.6/dist-packages (from pmdarima) (0.22.2.post1)\n",
            "Requirement already satisfied: pandas>=0.19 in /usr/local/lib/python3.6/dist-packages (from pmdarima) (1.1.5)\n",
            "Collecting statsmodels!=0.12.0,>=0.11\n",
            "\u001b[?25l  Downloading https://files.pythonhosted.org/packages/be/4c/9e2435ca6645d6bafa2b51bb11f0a365b28934a2ffe9d6e339d67130926d/statsmodels-0.12.1-cp36-cp36m-manylinux1_x86_64.whl (9.5MB)\n",
            "\u001b[K     |████████████████████████████████| 9.5MB 43.5MB/s \n",
            "\u001b[?25hRequirement already satisfied: python-dateutil>=2.7.3 in /usr/local/lib/python3.6/dist-packages (from pandas>=0.19->pmdarima) (2.8.1)\n",
            "Requirement already satisfied: pytz>=2017.2 in /usr/local/lib/python3.6/dist-packages (from pandas>=0.19->pmdarima) (2018.9)\n",
            "Requirement already satisfied: patsy>=0.5 in /usr/local/lib/python3.6/dist-packages (from statsmodels!=0.12.0,>=0.11->pmdarima) (0.5.1)\n",
            "Requirement already satisfied: six>=1.5 in /usr/local/lib/python3.6/dist-packages (from python-dateutil>=2.7.3->pandas>=0.19->pmdarima) (1.15.0)\n",
            "Installing collected packages: Cython, statsmodels, pmdarima\n",
            "  Found existing installation: Cython 0.29.21\n",
            "    Uninstalling Cython-0.29.21:\n",
            "      Successfully uninstalled Cython-0.29.21\n",
            "  Found existing installation: statsmodels 0.10.2\n",
            "    Uninstalling statsmodels-0.10.2:\n",
            "      Successfully uninstalled statsmodels-0.10.2\n",
            "Successfully installed Cython-0.29.17 pmdarima-1.8.0 statsmodels-0.12.1\n"
          ],
          "name": "stdout"
        }
      ]
    },
    {
      "cell_type": "code",
      "metadata": {
        "colab": {
          "base_uri": "https://localhost:8080/",
          "height": 195
        },
        "id": "1kfvuvI_l93V",
        "outputId": "95515b10-875b-4d36-dc79-9555cf1889d3"
      },
      "source": [
        "#Read the sales dataset\r\n",
        "sales_data = pd.read_csv(\"Champagne Sales.csv\")\r\n",
        "sales_data.head()"
      ],
      "execution_count": 3,
      "outputs": [
        {
          "output_type": "execute_result",
          "data": {
            "text/html": [
              "<div>\n",
              "<style scoped>\n",
              "    .dataframe tbody tr th:only-of-type {\n",
              "        vertical-align: middle;\n",
              "    }\n",
              "\n",
              "    .dataframe tbody tr th {\n",
              "        vertical-align: top;\n",
              "    }\n",
              "\n",
              "    .dataframe thead th {\n",
              "        text-align: right;\n",
              "    }\n",
              "</style>\n",
              "<table border=\"1\" class=\"dataframe\">\n",
              "  <thead>\n",
              "    <tr style=\"text-align: right;\">\n",
              "      <th></th>\n",
              "      <th>Month</th>\n",
              "      <th>Champagne sales</th>\n",
              "    </tr>\n",
              "  </thead>\n",
              "  <tbody>\n",
              "    <tr>\n",
              "      <th>0</th>\n",
              "      <td>1964-01</td>\n",
              "      <td>2815</td>\n",
              "    </tr>\n",
              "    <tr>\n",
              "      <th>1</th>\n",
              "      <td>1964-02</td>\n",
              "      <td>2672</td>\n",
              "    </tr>\n",
              "    <tr>\n",
              "      <th>2</th>\n",
              "      <td>1964-03</td>\n",
              "      <td>2755</td>\n",
              "    </tr>\n",
              "    <tr>\n",
              "      <th>3</th>\n",
              "      <td>1964-04</td>\n",
              "      <td>2721</td>\n",
              "    </tr>\n",
              "    <tr>\n",
              "      <th>4</th>\n",
              "      <td>1964-05</td>\n",
              "      <td>2946</td>\n",
              "    </tr>\n",
              "  </tbody>\n",
              "</table>\n",
              "</div>"
            ],
            "text/plain": [
              "     Month  Champagne sales\n",
              "0  1964-01             2815\n",
              "1  1964-02             2672\n",
              "2  1964-03             2755\n",
              "3  1964-04             2721\n",
              "4  1964-05             2946"
            ]
          },
          "metadata": {
            "tags": []
          },
          "execution_count": 3
        }
      ]
    },
    {
      "cell_type": "code",
      "metadata": {
        "colab": {
          "base_uri": "https://localhost:8080/",
          "height": 195
        },
        "id": "uHnpDjNMm_EH",
        "outputId": "a4f2356a-84e6-474f-eece-8bb2b6048d9a"
      },
      "source": [
        "#Make sure there are no null values at the end of the dataset\r\n",
        "sales_data.tail()"
      ],
      "execution_count": 4,
      "outputs": [
        {
          "output_type": "execute_result",
          "data": {
            "text/html": [
              "<div>\n",
              "<style scoped>\n",
              "    .dataframe tbody tr th:only-of-type {\n",
              "        vertical-align: middle;\n",
              "    }\n",
              "\n",
              "    .dataframe tbody tr th {\n",
              "        vertical-align: top;\n",
              "    }\n",
              "\n",
              "    .dataframe thead th {\n",
              "        text-align: right;\n",
              "    }\n",
              "</style>\n",
              "<table border=\"1\" class=\"dataframe\">\n",
              "  <thead>\n",
              "    <tr style=\"text-align: right;\">\n",
              "      <th></th>\n",
              "      <th>Month</th>\n",
              "      <th>Champagne sales</th>\n",
              "    </tr>\n",
              "  </thead>\n",
              "  <tbody>\n",
              "    <tr>\n",
              "      <th>100</th>\n",
              "      <td>1972-05</td>\n",
              "      <td>4618</td>\n",
              "    </tr>\n",
              "    <tr>\n",
              "      <th>101</th>\n",
              "      <td>1972-06</td>\n",
              "      <td>5312</td>\n",
              "    </tr>\n",
              "    <tr>\n",
              "      <th>102</th>\n",
              "      <td>1972-07</td>\n",
              "      <td>4298</td>\n",
              "    </tr>\n",
              "    <tr>\n",
              "      <th>103</th>\n",
              "      <td>1972-08</td>\n",
              "      <td>1413</td>\n",
              "    </tr>\n",
              "    <tr>\n",
              "      <th>104</th>\n",
              "      <td>1972-09</td>\n",
              "      <td>5877</td>\n",
              "    </tr>\n",
              "  </tbody>\n",
              "</table>\n",
              "</div>"
            ],
            "text/plain": [
              "       Month  Champagne sales\n",
              "100  1972-05             4618\n",
              "101  1972-06             5312\n",
              "102  1972-07             4298\n",
              "103  1972-08             1413\n",
              "104  1972-09             5877"
            ]
          },
          "metadata": {
            "tags": []
          },
          "execution_count": 4
        }
      ]
    },
    {
      "cell_type": "code",
      "metadata": {
        "colab": {
          "base_uri": "https://localhost:8080/"
        },
        "id": "K_jmJ83lnH-n",
        "outputId": "64b0e3aa-d52f-48e2-dab1-e7aa35dabdcd"
      },
      "source": [
        "#Check the datatypes\r\n",
        "sales_data.dtypes"
      ],
      "execution_count": 5,
      "outputs": [
        {
          "output_type": "execute_result",
          "data": {
            "text/plain": [
              "Month              object\n",
              "Champagne sales     int64\n",
              "dtype: object"
            ]
          },
          "metadata": {
            "tags": []
          },
          "execution_count": 5
        }
      ]
    },
    {
      "cell_type": "code",
      "metadata": {
        "id": "2rZni82NnM7Z"
      },
      "source": [
        "#Convert the month column to datetime\r\n",
        "sales_data['Month']=pd.to_datetime(sales_data['Month'])"
      ],
      "execution_count": 6,
      "outputs": []
    },
    {
      "cell_type": "code",
      "metadata": {
        "colab": {
          "base_uri": "https://localhost:8080/"
        },
        "id": "RkkKmFJunWH4",
        "outputId": "731f4540-29b1-4f1f-b900-c5a2c4b2cd2e"
      },
      "source": [
        "#Recheck the datatypes\r\n",
        "sales_data.dtypes"
      ],
      "execution_count": 7,
      "outputs": [
        {
          "output_type": "execute_result",
          "data": {
            "text/plain": [
              "Month              datetime64[ns]\n",
              "Champagne sales             int64\n",
              "dtype: object"
            ]
          },
          "metadata": {
            "tags": []
          },
          "execution_count": 7
        }
      ]
    },
    {
      "cell_type": "code",
      "metadata": {
        "id": "J7Q8V_KEndMP"
      },
      "source": [
        "#Set the index of the Month \r\n",
        "sales_data.set_index('Month',inplace=True)"
      ],
      "execution_count": 8,
      "outputs": []
    },
    {
      "cell_type": "code",
      "metadata": {
        "colab": {
          "base_uri": "https://localhost:8080/",
          "height": 225
        },
        "id": "egQWVE5rnpu4",
        "outputId": "465a46e2-4598-4dc8-c7df-2e0bf2fd4ed7"
      },
      "source": [
        "sales_data.head()"
      ],
      "execution_count": 9,
      "outputs": [
        {
          "output_type": "execute_result",
          "data": {
            "text/html": [
              "<div>\n",
              "<style scoped>\n",
              "    .dataframe tbody tr th:only-of-type {\n",
              "        vertical-align: middle;\n",
              "    }\n",
              "\n",
              "    .dataframe tbody tr th {\n",
              "        vertical-align: top;\n",
              "    }\n",
              "\n",
              "    .dataframe thead th {\n",
              "        text-align: right;\n",
              "    }\n",
              "</style>\n",
              "<table border=\"1\" class=\"dataframe\">\n",
              "  <thead>\n",
              "    <tr style=\"text-align: right;\">\n",
              "      <th></th>\n",
              "      <th>Champagne sales</th>\n",
              "    </tr>\n",
              "    <tr>\n",
              "      <th>Month</th>\n",
              "      <th></th>\n",
              "    </tr>\n",
              "  </thead>\n",
              "  <tbody>\n",
              "    <tr>\n",
              "      <th>1964-01-01</th>\n",
              "      <td>2815</td>\n",
              "    </tr>\n",
              "    <tr>\n",
              "      <th>1964-02-01</th>\n",
              "      <td>2672</td>\n",
              "    </tr>\n",
              "    <tr>\n",
              "      <th>1964-03-01</th>\n",
              "      <td>2755</td>\n",
              "    </tr>\n",
              "    <tr>\n",
              "      <th>1964-04-01</th>\n",
              "      <td>2721</td>\n",
              "    </tr>\n",
              "    <tr>\n",
              "      <th>1964-05-01</th>\n",
              "      <td>2946</td>\n",
              "    </tr>\n",
              "  </tbody>\n",
              "</table>\n",
              "</div>"
            ],
            "text/plain": [
              "            Champagne sales\n",
              "Month                      \n",
              "1964-01-01             2815\n",
              "1964-02-01             2672\n",
              "1964-03-01             2755\n",
              "1964-04-01             2721\n",
              "1964-05-01             2946"
            ]
          },
          "metadata": {
            "tags": []
          },
          "execution_count": 9
        }
      ]
    },
    {
      "cell_type": "code",
      "metadata": {
        "colab": {
          "base_uri": "https://localhost:8080/",
          "height": 279
        },
        "id": "WeFSBFh7nv9j",
        "outputId": "cc2e8e21-e9e2-4e86-bf9b-9ce9d115927f"
      },
      "source": [
        "# To understand the pattern\r\n",
        "sales_data.plot()\r\n",
        "plt.show()"
      ],
      "execution_count": 11,
      "outputs": [
        {
          "output_type": "display_data",
          "data": {
            "image/png": "[encoded data removed]",
            "text/plain": [
              "<Figure size 432x288 with 1 Axes>"
            ]
          },
          "metadata": {
            "tags": [],
            "needs_background": "light"
          }
        }
      ]
    },
    {
      "cell_type": "markdown",
      "metadata": {
        "id": "Ox4EWi84oHYG"
      },
      "source": [
        "# Test for Stationarity"
      ]
    },
    {
      "cell_type": "code",
      "metadata": {
        "colab": {
          "base_uri": "https://localhost:8080/"
        },
        "id": "EoFeVCzumm1Q",
        "outputId": "e8453ee1-409e-4e2e-bf53-3413e3c09ef4"
      },
      "source": [
        "from pmdarima.arima import ADFTest\r\n",
        "adf_test = ADFTest(alpha = 0.05)\r\n",
        "adf_test.should_diff(sales_data)\r\n",
        "\r\n",
        "\r\n"
      ],
      "execution_count": 12,
      "outputs": [
        {
          "output_type": "execute_result",
          "data": {
            "text/plain": [
              "(0.01, False)"
            ]
          },
          "metadata": {
            "tags": []
          },
          "execution_count": 12
        }
      ]
    },
    {
      "cell_type": "code",
      "metadata": {
        "colab": {
          "base_uri": "https://localhost:8080/",
          "height": 225
        },
        "id": "53XXI0vGoawD",
        "outputId": "544835a9-477e-4c1e-ae4c-a500db92bc67"
      },
      "source": [
        "#Spliting the dataset into train and test\r\n",
        "train = sales_data[:85]\r\n",
        "test = sales_data[-20:]\r\n",
        "test.head()"
      ],
      "execution_count": 16,
      "outputs": [
        {
          "output_type": "execute_result",
          "data": {
            "text/html": [
              "<div>\n",
              "<style scoped>\n",
              "    .dataframe tbody tr th:only-of-type {\n",
              "        vertical-align: middle;\n",
              "    }\n",
              "\n",
              "    .dataframe tbody tr th {\n",
              "        vertical-align: top;\n",
              "    }\n",
              "\n",
              "    .dataframe thead th {\n",
              "        text-align: right;\n",
              "    }\n",
              "</style>\n",
              "<table border=\"1\" class=\"dataframe\">\n",
              "  <thead>\n",
              "    <tr style=\"text-align: right;\">\n",
              "      <th></th>\n",
              "      <th>Champagne sales</th>\n",
              "    </tr>\n",
              "    <tr>\n",
              "      <th>Month</th>\n",
              "      <th></th>\n",
              "    </tr>\n",
              "  </thead>\n",
              "  <tbody>\n",
              "    <tr>\n",
              "      <th>1971-02-01</th>\n",
              "      <td>3162</td>\n",
              "    </tr>\n",
              "    <tr>\n",
              "      <th>1971-03-01</th>\n",
              "      <td>4286</td>\n",
              "    </tr>\n",
              "    <tr>\n",
              "      <th>1971-04-01</th>\n",
              "      <td>4676</td>\n",
              "    </tr>\n",
              "    <tr>\n",
              "      <th>1971-05-01</th>\n",
              "      <td>5010</td>\n",
              "    </tr>\n",
              "    <tr>\n",
              "      <th>1971-06-01</th>\n",
              "      <td>4874</td>\n",
              "    </tr>\n",
              "  </tbody>\n",
              "</table>\n",
              "</div>"
            ],
            "text/plain": [
              "            Champagne sales\n",
              "Month                      \n",
              "1971-02-01             3162\n",
              "1971-03-01             4286\n",
              "1971-04-01             4676\n",
              "1971-05-01             5010\n",
              "1971-06-01             4874"
            ]
          },
          "metadata": {
            "tags": []
          },
          "execution_count": 16
        }
      ]
    },
    {
      "cell_type": "code",
      "metadata": {
        "colab": {
          "base_uri": "https://localhost:8080/",
          "height": 282
        },
        "id": "7fz73ccxorMR",
        "outputId": "48f1eb55-feb4-4ccf-b12f-b86836b877d8"
      },
      "source": [
        "plt.plot(train)\r\n",
        "plt.plot(test)\r\n",
        "\r\n",
        "\r\n"
      ],
      "execution_count": 17,
      "outputs": [
        {
          "output_type": "execute_result",
          "data": {
            "text/plain": [
              "[<matplotlib.lines.Line2D at 0x7ff9b80bbe80>]"
            ]
          },
          "metadata": {
            "tags": []
          },
          "execution_count": 17
        },
        {
          "output_type": "display_data",
          "data": {
            "image/png": "[encoded data removed]",
            "text/plain": [
              "<Figure size 432x288 with 1 Axes>"
            ]
          },
          "metadata": {
            "tags": [],
            "needs_background": "light"
          }
        }
      ]
    },
    {
      "cell_type": "markdown",
      "metadata": {
        "id": "doILvQnPpTe_"
      },
      "source": [
        "# Building Auto ARIMA model"
      ]
    },
    {
      "cell_type": "code",
      "metadata": {
        "colab": {
          "base_uri": "https://localhost:8080/"
        },
        "id": "WHYt4pi2pK8n",
        "outputId": "38b746f9-f3c9-4055-9f23-9001b09bf79d"
      },
      "source": [
        "arima_model =  auto_arima(train,start_p=0, d=1, start_q=0, \r\n",
        "                          max_p=5, max_d=5, max_q=5, start_P=0, \r\n",
        "                          D=1, start_Q=0, max_P=5, max_D=5,\r\n",
        "                          max_Q=5, m=12, seasonal=True, \r\n",
        "                          error_action='warn',trace = True,\r\n",
        "                          supress_warnings=True,stepwise = True,\r\n",
        "                          random_state=20,n_fits = 50 )\r\n",
        "\r\n",
        "\r\n"
      ],
      "execution_count": 18,
      "outputs": [
        {
          "output_type": "stream",
          "text": [
            "Performing stepwise search to minimize aic\n",
            " ARIMA(0,1,0)(0,1,0)[12]             : AIC=1203.853, Time=0.06 sec\n",
            " ARIMA(1,1,0)(1,1,0)[12]             : AIC=1192.025, Time=0.10 sec\n",
            " ARIMA(0,1,1)(0,1,1)[12]             : AIC=1176.246, Time=0.28 sec\n",
            " ARIMA(0,1,1)(0,1,0)[12]             : AIC=1174.731, Time=0.07 sec\n",
            " ARIMA(0,1,1)(1,1,0)[12]             : AIC=1176.034, Time=0.24 sec\n",
            " ARIMA(0,1,1)(1,1,1)[12]             : AIC=1176.700, Time=0.46 sec\n",
            " ARIMA(1,1,1)(0,1,0)[12]             : AIC=1175.054, Time=0.14 sec\n",
            " ARIMA(0,1,2)(0,1,0)[12]             : AIC=1174.769, Time=0.11 sec\n",
            " ARIMA(1,1,0)(0,1,0)[12]             : AIC=1194.721, Time=0.03 sec\n",
            " ARIMA(1,1,2)(0,1,0)[12]             : AIC=1174.564, Time=0.34 sec\n",
            " ARIMA(1,1,2)(1,1,0)[12]             : AIC=inf, Time=0.56 sec\n",
            " ARIMA(1,1,2)(0,1,1)[12]             : AIC=inf, Time=0.62 sec\n",
            " ARIMA(1,1,2)(1,1,1)[12]             : AIC=1176.632, Time=1.12 sec\n",
            " ARIMA(2,1,2)(0,1,0)[12]             : AIC=1176.127, Time=0.33 sec\n",
            " ARIMA(1,1,3)(0,1,0)[12]             : AIC=1176.124, Time=0.42 sec\n",
            " ARIMA(0,1,3)(0,1,0)[12]             : AIC=1176.458, Time=0.17 sec\n",
            " ARIMA(2,1,1)(0,1,0)[12]             : AIC=1176.656, Time=0.18 sec\n",
            " ARIMA(2,1,3)(0,1,0)[12]             : AIC=inf, Time=0.62 sec\n",
            " ARIMA(1,1,2)(0,1,0)[12] intercept   : AIC=inf, Time=0.24 sec\n",
            "\n",
            "Best model:  ARIMA(1,1,2)(0,1,0)[12]          \n",
            "Total fit time: 6.088 seconds\n"
          ],
          "name": "stdout"
        }
      ]
    },
    {
      "cell_type": "code",
      "metadata": {
        "colab": {
          "base_uri": "https://localhost:8080/",
          "height": 426
        },
        "id": "yPEzQo-f38zm",
        "outputId": "e7f23d47-1826-47ae-9281-bb9b839da391"
      },
      "source": [
        "arima_model.summary()\r\n",
        "\r\n",
        "\r\n"
      ],
      "execution_count": 20,
      "outputs": [
        {
          "output_type": "execute_result",
          "data": {
            "text/html": [
              "<table class=\"simpletable\">\n",
              "<caption>SARIMAX Results</caption>\n",
              "<tr>\n",
              "  <th>Dep. Variable:</th>                  <td>y</td>                <th>  No. Observations:  </th>    <td>85</td>   \n",
              "</tr>\n",
              "<tr>\n",
              "  <th>Model:</th>           <td>SARIMAX(1, 1, 2)x(0, 1, [], 12)</td> <th>  Log Likelihood     </th> <td>-583.282</td>\n",
              "</tr>\n",
              "<tr>\n",
              "  <th>Date:</th>                   <td>Fri, 01 Jan 2021</td>         <th>  AIC                </th> <td>1174.564</td>\n",
              "</tr>\n",
              "<tr>\n",
              "  <th>Time:</th>                       <td>12:16:13</td>             <th>  BIC                </th> <td>1183.670</td>\n",
              "</tr>\n",
              "<tr>\n",
              "  <th>Sample:</th>                         <td>0</td>                <th>  HQIC               </th> <td>1178.189</td>\n",
              "</tr>\n",
              "<tr>\n",
              "  <th></th>                              <td> - 85</td>              <th>                     </th>     <td> </td>   \n",
              "</tr>\n",
              "<tr>\n",
              "  <th>Covariance Type:</th>               <td>opg</td>               <th>                     </th>     <td> </td>   \n",
              "</tr>\n",
              "</table>\n",
              "<table class=\"simpletable\">\n",
              "<tr>\n",
              "     <td></td>       <th>coef</th>     <th>std err</th>      <th>z</th>      <th>P>|z|</th>  <th>[0.025</th>    <th>0.975]</th>  \n",
              "</tr>\n",
              "<tr>\n",
              "  <th>ar.L1</th>  <td>   -0.8412</td> <td>    0.152</td> <td>   -5.543</td> <td> 0.000</td> <td>   -1.139</td> <td>   -0.544</td>\n",
              "</tr>\n",
              "<tr>\n",
              "  <th>ma.L1</th>  <td>    0.0513</td> <td>    0.167</td> <td>    0.308</td> <td> 0.758</td> <td>   -0.275</td> <td>    0.378</td>\n",
              "</tr>\n",
              "<tr>\n",
              "  <th>ma.L2</th>  <td>   -0.8673</td> <td>    0.086</td> <td>  -10.134</td> <td> 0.000</td> <td>   -1.035</td> <td>   -0.700</td>\n",
              "</tr>\n",
              "<tr>\n",
              "  <th>sigma2</th> <td> 5.862e+05</td> <td> 7.03e+04</td> <td>    8.342</td> <td> 0.000</td> <td> 4.48e+05</td> <td> 7.24e+05</td>\n",
              "</tr>\n",
              "</table>\n",
              "<table class=\"simpletable\">\n",
              "<tr>\n",
              "  <th>Ljung-Box (L1) (Q):</th>     <td>0.05</td> <th>  Jarque-Bera (JB):  </th> <td>8.55</td> \n",
              "</tr>\n",
              "<tr>\n",
              "  <th>Prob(Q):</th>                <td>0.83</td> <th>  Prob(JB):          </th> <td>0.01</td> \n",
              "</tr>\n",
              "<tr>\n",
              "  <th>Heteroskedasticity (H):</th> <td>2.61</td> <th>  Skew:              </th> <td>-0.10</td>\n",
              "</tr>\n",
              "<tr>\n",
              "  <th>Prob(H) (two-sided):</th>    <td>0.02</td> <th>  Kurtosis:          </th> <td>4.68</td> \n",
              "</tr>\n",
              "</table><br/><br/>Warnings:<br/>[1] Covariance matrix calculated using the outer product of gradients (complex-step)."
            ],
            "text/plain": [
              "<class 'statsmodels.iolib.summary.Summary'>\n",
              "\"\"\"\n",
              "                                      SARIMAX Results                                      \n",
              "===========================================================================================\n",
              "Dep. Variable:                                   y   No. Observations:                   85\n",
              "Model:             SARIMAX(1, 1, 2)x(0, 1, [], 12)   Log Likelihood                -583.282\n",
              "Date:                             Fri, 01 Jan 2021   AIC                           1174.564\n",
              "Time:                                     12:16:13   BIC                           1183.670\n",
              "Sample:                                          0   HQIC                          1178.189\n",
              "                                              - 85                                         \n",
              "Covariance Type:                               opg                                         \n",
              "==============================================================================\n",
              "                 coef    std err          z      P>|z|      [0.025      0.975]\n",
              "------------------------------------------------------------------------------\n",
              "ar.L1         -0.8412      0.152     -5.543      0.000      -1.139      -0.544\n",
              "ma.L1          0.0513      0.167      0.308      0.758      -0.275       0.378\n",
              "ma.L2         -0.8673      0.086    -10.134      0.000      -1.035      -0.700\n",
              "sigma2      5.862e+05   7.03e+04      8.342      0.000    4.48e+05    7.24e+05\n",
              "===================================================================================\n",
              "Ljung-Box (L1) (Q):                   0.05   Jarque-Bera (JB):                 8.55\n",
              "Prob(Q):                              0.83   Prob(JB):                         0.01\n",
              "Heteroskedasticity (H):               2.61   Skew:                            -0.10\n",
              "Prob(H) (two-sided):                  0.02   Kurtosis:                         4.68\n",
              "===================================================================================\n",
              "\n",
              "Warnings:\n",
              "[1] Covariance matrix calculated using the outer product of gradients (complex-step).\n",
              "\"\"\""
            ]
          },
          "metadata": {
            "tags": []
          },
          "execution_count": 20
        }
      ]
    },
    {
      "cell_type": "code",
      "metadata": {
        "colab": {
          "base_uri": "https://localhost:8080/",
          "height": 320
        },
        "id": "j5PaeZtI4FI-",
        "outputId": "af3a00a8-9d65-4cba-f3c1-7e35f6525c7e"
      },
      "source": [
        "prediction = pd.DataFrame(arima_model.predict(n_periods = 20),index=test.index)\r\n",
        "prediction.columns = ['predicted_sales']\r\n",
        "prediction\r\n",
        "\r\n",
        "plt.figure(figsize=(8,5))\r\n",
        "plt.plot(train,label=\"Training\")\r\n",
        "plt.plot(test,label=\"Test\")\r\n",
        "plt.plot(prediction,label=\"Predicted\")\r\n",
        "plt.legend(loc = 'Left corner')\r\n",
        "plt.show()\r\n"
      ],
      "execution_count": 24,
      "outputs": [
        {
          "output_type": "display_data",
          "data": {
            "image/png": "[encoded data removed]",
            "text/plain": [
              "<Figure size 576x360 with 1 Axes>"
            ]
          },
          "metadata": {
            "tags": [],
            "needs_background": "light"
          }
        }
      ]
    },
    {
      "cell_type": "code",
      "metadata": {
        "colab": {
          "base_uri": "https://localhost:8080/"
        },
        "id": "Z3FcyLSk4Qdw",
        "outputId": "10de9bbe-a5bd-4113-a55f-03abcb17abbd"
      },
      "source": [
        "\r\n",
        "from sklearn.metrics import r2_score\r\n",
        "test['predicted_sales'] = prediction\r\n",
        "r2_score(test['Champagne sales'], test['predicted_sales'])"
      ],
      "execution_count": 25,
      "outputs": [
        {
          "output_type": "execute_result",
          "data": {
            "text/plain": [
              "0.8114732896781787"
            ]
          },
          "metadata": {
            "tags": []
          },
          "execution_count": 25
        }
      ]
    },
    {
      "cell_type": "code",
      "metadata": {
        "id": "wAikCa0d4Ftf"
      },
      "source": [
        ""
      ],
      "execution_count": null,
      "outputs": []
    }
  ]
}