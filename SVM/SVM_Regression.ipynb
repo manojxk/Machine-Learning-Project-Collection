{
  "nbformat": 4,
  "nbformat_minor": 0,
  "metadata": {
    "colab": {
      "name": "SVM_Regression.ipynb",
      "provenance": [],
      "collapsed_sections": [],
      "toc_visible": true
    },
    "kernelspec": {
      "name": "python3",
      "display_name": "Python 3"
    }
  },
  "cells": [
    {
      "cell_type": "code",
      "metadata": {
        "colab": {
          "base_uri": "https://localhost:8080/"
        },
        "id": "RXSuhFZ7k_vN",
        "outputId": "ac490975-c86c-4c79-f9fc-a04ed6464392"
      },
      "source": [
        "from google.colab import drive\r\n",
        "drive.mount('/content/drive/')"
      ],
      "execution_count": 6,
      "outputs": [
        {
          "output_type": "stream",
          "text": [
            "Drive already mounted at /content/drive/; to attempt to forcibly remount, call drive.mount(\"/content/drive/\", force_remount=True).\n"
          ],
          "name": "stdout"
        }
      ]
    },
    {
      "cell_type": "code",
      "metadata": {
        "colab": {
          "base_uri": "https://localhost:8080/",
          "height": 450
        },
        "id": "p7BGCxdglKBe",
        "outputId": "a775b7e3-1046-49e2-92cb-834d91670677"
      },
      "source": [
        "import numpy as np\r\n",
        "import pandas as pd\r\n",
        "import matplotlib.pyplot as plt\r\n",
        "\r\n",
        "# import and split the data and classes\r\n",
        "dataset = pd.read_csv(\"/content/drive/MyDrive/Colab Notebooks/Position_Salaries.csv\")\r\n",
        "print(dataset.head())\r\n",
        "X = dataset.iloc[:, 1:-1].values\r\n",
        "Y = dataset.iloc[:, 2].values\r\n",
        "\r\n",
        "\r\n",
        "# features scaling\r\n",
        "from sklearn.preprocessing import StandardScaler\r\n",
        "sc_X = StandardScaler()\r\n",
        "sc_Y = StandardScaler()\r\n",
        "X = sc_X.fit_transform(X)\r\n",
        "Y = sc_Y.fit_transform(np.reshape(Y, (10,1)))\r\n",
        "\r\n",
        "# Fitting Regression modelto the dataset\r\n",
        "from sklearn.svm import SVR\r\n",
        "regressor = SVR() # add this parametre kernel='rbf'\r\n",
        "regressor.fit(X,Y)\r\n",
        "\r\n",
        "# predicts a new result with polyn reg\r\n",
        "y_pred = sc_Y.inverse_transform(regressor.predict(sc_X.transform(np.array([[8.5]]))))\r\n",
        "\r\n",
        "# Visualisation the regression result\r\n",
        "plt.scatter(x=X, y=Y,color='red')\r\n",
        "plt.plot(X, regressor.predict(X), color='green')\r\n",
        "plt.title('Truth of Bluff / SVR')\r\n",
        "plt.xlabel('Position level')\r\n",
        "plt.ylabel('Salary')\r\n",
        "plt.show()"
      ],
      "execution_count": 9,
      "outputs": [
        {
          "output_type": "stream",
          "text": [
            "            Position  Level  Salary\n",
            "0   Business Analyst      1   45000\n",
            "1  Junior Consultant      2   50000\n",
            "2  Senior Consultant      3   60000\n",
            "3            Manager      4   80000\n",
            "4    Country Manager      5  110000\n"
          ],
          "name": "stdout"
        },
        {
          "output_type": "stream",
          "text": [
            "/usr/local/lib/python3.6/dist-packages/sklearn/utils/validation.py:760: DataConversionWarning: A column-vector y was passed when a 1d array was expected. Please change the shape of y to (n_samples, ), for example using ravel().\n",
            "  y = column_or_1d(y, warn=True)\n"
          ],
          "name": "stderr"
        },
        {
          "output_type": "display_data",
          "data": {
            "image/png": "[encoded data removed]",
            "text/plain": [
              "<Figure size 432x288 with 1 Axes>"
            ]
          },
          "metadata": {
            "tags": [],
            "needs_background": "light"
          }
        }
      ]
    },
    {
      "cell_type": "code",
      "metadata": {
        "id": "hU96BNIAnZG2"
      },
      "source": [
        ""
      ],
      "execution_count": 6,
      "outputs": []
    }
  ]
}